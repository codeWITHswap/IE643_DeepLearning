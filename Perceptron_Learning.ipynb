{
  "cells": [
    {
      "cell_type": "markdown",
      "source": [
        "#Import required packages"
      ],
      "metadata": {
        "id": "7pWUFqBqD2JP"
      }
    },
    {
      "cell_type": "code",
      "execution_count": 49,
      "metadata": {
        "id": "VpoRS78t_YG7"
      },
      "outputs": [],
      "source": [
        "import numpy as np\n",
        "import matplotlib.pyplot as plt\n",
        "import random"
      ]
    },
    {
      "cell_type": "code",
      "source": [
        "#seed random number generator of numpy for reproducibility\n",
        "np.random.seed(1000)"
      ],
      "metadata": {
        "id": "EFhYg00oBkTI"
      },
      "execution_count": 50,
      "outputs": []
    },
    {
      "cell_type": "markdown",
      "source": [
        "#Data Generation"
      ],
      "metadata": {
        "id": "UbEXQaAwBQtg"
      }
    },
    {
      "cell_type": "markdown",
      "source": [
        "1. Generate 10 two-dimensional data points from a multi-variate Gaussian distribution with mean [0,0] and identity covariance matrix. Label data points as class +1. Consider this labeled data set as $D_1$.  ($\\textbf{Hint:}$ Use numpy.random.multivariate_normal)"
      ],
      "metadata": {
        "id": "RpsFp0ADAQlO"
      }
    },
    {
      "cell_type": "code",
      "source": [
        "#Generate D_1\n",
        "mean = [0,0]\n",
        "cov = [[1,0], [0,1]] # identity covariance matrix\n",
        "size = 10\n",
        "\n",
        "D_1 = np.random.multivariate_normal(mean, cov, size) # Input generation\n",
        "\n",
        "y_1 = np.full((10,1),1) # Class = +1\n",
        "\n",
        "D_1 = np.concatenate((D_1,y_1),1) # Augment"
      ],
      "metadata": {
        "id": "ewUGs6OtBVQf"
      },
      "execution_count": 51,
      "outputs": []
    },
    {
      "cell_type": "markdown",
      "source": [
        "2. Generate 10 two-dimensional data points from a multi-variate Gaussian distribution with mean [-2,-2] and identity covariance matrix. Label data points as class -1. Consider this labeled data set as $D_2$."
      ],
      "metadata": {
        "id": "VMzG2JJLBVkz"
      }
    },
    {
      "cell_type": "code",
      "source": [
        "#Generate D_2\n",
        "mean = [-2,-2]\n",
        "cov = [[1,0], [0,1]]\n",
        "size = 10\n",
        "\n",
        "D_2 = np.random.multivariate_normal(mean, cov, size) # Input generation\n",
        "\n",
        "y_2 = np.full((10,1),-1) # Class = -1\n",
        "\n",
        "D_2 = np.concatenate((D_2,y_2),1) # Augment"
      ],
      "metadata": {
        "id": "ISyEFMlLBYjh"
      },
      "execution_count": 52,
      "outputs": []
    },
    {
      "cell_type": "markdown",
      "source": [
        "3. Construct $D=D_1 \\cup D_2$. Shuffle the data in $D$. (Hint: Use random.shuffle().)"
      ],
      "metadata": {
        "id": "_zc-fEyRCBI-"
      }
    },
    {
      "cell_type": "code",
      "source": [
        "#Construct D and shuffle.\n",
        "D = np.concatenate((D_1,D_2), axis = 0)\n",
        "np.random.shuffle(D)\n",
        "D"
      ],
      "metadata": {
        "id": "9kys1gOBDlFC",
        "colab": {
          "base_uri": "https://localhost:8080/"
        },
        "outputId": "a6d94fe4-4779-4f98-8193-bfee4c1be1c3"
      },
      "execution_count": 53,
      "outputs": [
        {
          "output_type": "execute_result",
          "data": {
            "text/plain": [
              "array([[-2.82294096, -0.39991663, -1.        ],\n",
              "       [ 0.5950355 , -0.46466753,  1.        ],\n",
              "       [-3.61798224, -1.13273918, -1.        ],\n",
              "       [-0.18237734,  0.10319289,  1.        ],\n",
              "       [-1.68788199, -0.46683893, -1.        ],\n",
              "       [-0.8044583 ,  0.32093155,  1.        ],\n",
              "       [ 0.66728131, -0.80611561,  1.        ],\n",
              "       [-0.02548288,  0.64432383,  1.        ],\n",
              "       [-2.0692813 , -1.91679051, -1.        ],\n",
              "       [-1.19606983, -0.40596016,  1.        ],\n",
              "       [-2.55017387, -2.38314741, -1.        ],\n",
              "       [-2.33483545, -2.0994817 , -1.        ],\n",
              "       [-0.1074373 , -0.47998308,  1.        ],\n",
              "       [ 1.27179528, -0.98674733,  1.        ],\n",
              "       [-1.5928079 , -1.08061246, -1.        ],\n",
              "       [-0.30079667,  0.38947455,  1.        ],\n",
              "       [-2.32692468, -2.04579719, -1.        ],\n",
              "       [-2.078659  , -2.58206572, -1.        ],\n",
              "       [-0.13842199,  0.70569237,  1.        ],\n",
              "       [-2.30446006, -0.07698987, -1.        ]])"
            ]
          },
          "metadata": {},
          "execution_count": 53
        }
      ]
    },
    {
      "cell_type": "markdown",
      "source": [
        "#Data Visualization"
      ],
      "metadata": {
        "id": "X323eC7MGy62"
      }
    },
    {
      "cell_type": "markdown",
      "source": [
        "Write code to visualize the data $D$ you have generated. Use different colors for different classes. (Use matplotlib.pyplot.scatter to plot the points.)"
      ],
      "metadata": {
        "id": "LHP4fS3QG1pJ"
      }
    },
    {
      "cell_type": "code",
      "source": [
        "def plot_data(data):\n",
        "  #write code to plot the data points. Use different colors for different classes.\n",
        "  plt.scatter(data[:,0], data[:,1], c=data[:,2], s=50, cmap='RdBu')\n",
        "\n",
        "plot_data(D)"
      ],
      "metadata": {
        "id": "KzI4a69LG0z6",
        "colab": {
          "base_uri": "https://localhost:8080/",
          "height": 265
        },
        "outputId": "a0dcaf9b-84a5-4d95-fe65-8019a974d223"
      },
      "execution_count": 54,
      "outputs": [
        {
          "output_type": "display_data",
          "data": {
            "text/plain": [
              "<Figure size 432x288 with 1 Axes>"
            ],
            "image/png": "[encoded data removed]"
          },
          "metadata": {
            "needs_background": "light"
          }
        }
      ]
    },
    {
      "cell_type": "markdown",
      "source": [
        "#Perceptron prediction function"
      ],
      "metadata": {
        "id": "F2aTQX9dD-De"
      }
    },
    {
      "cell_type": "markdown",
      "source": [
        "Write code to implement the prediction rule used in Perceptron. (Use the numpy function which helps in computing the dot product between two vectors.)"
      ],
      "metadata": {
        "id": "oWoQ8TEcD8Es"
      }
    },
    {
      "cell_type": "code",
      "execution_count": 55,
      "metadata": {
        "id": "qeCo0wAB_YHA"
      },
      "outputs": [],
      "source": [
        "def perceptron_prediction(w, x):\n",
        "    #write code to compute the prediction for the example x using weight w\n",
        "    prediction = 0\n",
        "    if(np.dot(w,x)>=0):\n",
        "      prediction = 1\n",
        "    else:\n",
        "      prediction = -1\n",
        "    return prediction"
      ]
    },
    {
      "cell_type": "markdown",
      "source": [
        "#Function to update weights "
      ],
      "metadata": {
        "id": "6a9jDQ-qEC85"
      }
    },
    {
      "cell_type": "markdown",
      "source": [
        "Write code to implement the update rule for updating weights in perceptron learning algorithm. If there is a mistake in prediction made by perceptron, return is_mistake as True, otherwise return is_mistake as False. "
      ],
      "metadata": {
        "id": "HH3oAlYCEMb4"
      }
    },
    {
      "cell_type": "code",
      "execution_count": 56,
      "metadata": {
        "id": "ne0ohgNI_YHB"
      },
      "outputs": [],
      "source": [
        "def perceptron_update_weights(w, x, y, y_pred):\n",
        "    is_mistake = False\n",
        "    #check for mistake and set is_mistake flag accordingly\n",
        "    if(y_pred!=y):\n",
        "      is_mistake = True\n",
        "    #and write code to update the weights in perceptron \n",
        "    if(is_mistake):\n",
        "      w = w + y*x\n",
        "    return w, is_mistake"
      ]
    },
    {
      "cell_type": "markdown",
      "source": [
        "#Training procedure for perceptron"
      ],
      "metadata": {
        "id": "5NrLsVCBEJHz"
      }
    },
    {
      "cell_type": "markdown",
      "source": [
        "Complete the training procedure to train perceptron by adding appropriate code where required."
      ],
      "metadata": {
        "id": "CFIA67sBGfWc"
      }
    },
    {
      "cell_type": "code",
      "execution_count": 57,
      "metadata": {
        "id": "08hi7UQS_YHB"
      },
      "outputs": [],
      "source": [
        "def train_perceptron(data):\n",
        "    #Initialize weights \n",
        "\n",
        "    w = np.zeros(shape = data.shape[1]) # zero initialization ; try next with random generation\n",
        "\n",
        "    epochs=0 # useful for executing multiple passes over a finite data set\n",
        "    num_mistakes = 99 #some dummy value to get the while loop going \n",
        "    max_epochs = 50 \n",
        "\n",
        "    while num_mistakes > 0 and epochs<max_epochs:   # until mistakes are not zero or number of epochs reach max_epochs\n",
        "        num_mistakes = 0\n",
        "        for i in range(len(data)):\n",
        "            #retrieve the feature vector x from data set D \n",
        "            x = data[i,0:2]\n",
        "            #Append an additional constant feature 1 to x (Use np.concatenate)\n",
        "            one = np.array([1])\n",
        "            x = np.concatenate((x,one), 0)\n",
        "             \n",
        "            y_hat = perceptron_prediction(w, x)\n",
        "            \n",
        "            #retrieve the label y for x from data set D \n",
        "            y = data[i,2]\n",
        "            \n",
        "            w, is_mistake = perceptron_update_weights(w, x, y, y_hat)\n",
        "            \n",
        "            if is_mistake:\n",
        "              num_mistakes += 1\n",
        "\n",
        "        epochs=epochs+1\n",
        "    return w"
      ]
    },
    {
      "cell_type": "markdown",
      "source": [
        "#Plotting the separating line"
      ],
      "metadata": {
        "id": "4obz-qQlD6DT"
      }
    },
    {
      "cell_type": "markdown",
      "source": [
        "Write code to plot the separating line along with the data."
      ],
      "metadata": {
        "id": "B9vTTWmMH1e8"
      }
    },
    {
      "cell_type": "code",
      "execution_count": 58,
      "metadata": {
        "id": "UF3MW_5r_YG_"
      },
      "outputs": [],
      "source": [
        "def plot_data_with_separator(data, w):\n",
        "  #write required code. (You can reuse the code written for plotting the data points.)\n",
        "  plt.scatter(data[:,0], data[:,1], c=data[:,2], s=50, cmap='RdBu')\n",
        "\n",
        "  w0 = w[2]\n",
        "  w1 = w[0]\n",
        "  w2 = w[1]\n",
        "  \n",
        "  x = np.linspace(-4,2,100)\n",
        "  y = (-1)*(w0/w2) - (w1/w2)*x\n",
        "\n",
        "  plt.plot(x, y, '-r')\n",
        "  pass"
      ]
    },
    {
      "cell_type": "markdown",
      "source": [
        "#Calling the Perceptron train function."
      ],
      "metadata": {
        "id": "i46n2f8eIcjD"
      }
    },
    {
      "cell_type": "code",
      "execution_count": 59,
      "metadata": {
        "id": "fgZyu4VC_YHK"
      },
      "outputs": [],
      "source": [
        "w_final = train_perceptron(D)    \n",
        " "
      ]
    },
    {
      "cell_type": "markdown",
      "source": [
        "#Calling the plot function to plot separator"
      ],
      "metadata": {
        "id": "1cwNJElLIneS"
      }
    },
    {
      "cell_type": "code",
      "source": [
        "plot_data_with_separator(D, w_final)"
      ],
      "metadata": {
        "id": "jyLZvy0wk9vn",
        "colab": {
          "base_uri": "https://localhost:8080/",
          "height": 265
        },
        "outputId": "ee427391-33a1-43c0-9791-4b8a9cf1edd7"
      },
      "execution_count": 60,
      "outputs": [
        {
          "output_type": "display_data",
          "data": {
            "text/plain": [
              "<Figure size 432x288 with 1 Axes>"
            ],
            "image/png": "[encoded data removed]"
          },
          "metadata": {
            "needs_background": "light"
          }
        }
      ]
    },
    {
      "cell_type": "markdown",
      "source": [
        "#Additional functionality (Optional):\n",
        "\n",
        "Illustrate the behavior of the separating line between the updates as contiguous plots or as animation. Highlight the data points which cause the update in the separating line orientations.\n",
        "\n"
      ],
      "metadata": {
        "id": "l5XomIo7SiW9"
      }
    },
    {
      "cell_type": "code",
      "source": [
        ""
      ],
      "metadata": {
        "id": "WIwYty51Sy2p",
        "colab": {
          "base_uri": "https://localhost:8080/",
          "height": 35
        },
        "outputId": "eac976de-3458-4c56-e990-bc71a79c92d9"
      },
      "execution_count": 72,
      "outputs": [
        {
          "output_type": "display_data",
          "data": {
            "text/plain": [
              "<Figure size 432x288 with 0 Axes>"
            ]
          },
          "metadata": {}
        }
      ]
    }
  ],
  "metadata": {
    "kernelspec": {
      "display_name": "Python 3",
      "language": "python",
      "name": "python3"
    },
    "language_info": {
      "codemirror_mode": {
        "name": "ipython",
        "version": 3
      },
      "file_extension": ".py",
      "mimetype": "text/x-python",
      "name": "python",
      "nbconvert_exporter": "python",
      "pygments_lexer": "ipython3",
      "version": "3.6.5"
    },
    "colab": {
      "name": "Perceptron_Exercise.ipynb",
      "provenance": [],
      "collapsed_sections": []
    },
    "accelerator": "GPU",
    "gpuClass": "standard"
  },
  "nbformat": 4,
  "nbformat_minor": 0
}